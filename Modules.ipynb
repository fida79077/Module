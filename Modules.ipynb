{
  "nbformat": 4,
  "nbformat_minor": 0,
  "metadata": {
    "colab": {
      "provenance": []
    },
    "kernelspec": {
      "name": "python3",
      "display_name": "Python 3"
    },
    "language_info": {
      "name": "python"
    }
  },
  "cells": [
    {
      "cell_type": "code",
      "execution_count": 1,
      "metadata": {
        "id": "Uc9kTvSJ3a-z"
      },
      "outputs": [],
      "source": [
        "# What is is Modules in Python?\n",
        "# The module is a simple python file that contains collections of functiona and global variable and with\n",
        "# having a .py extension file . It is an executable fileandto organize all the modules we have the cocept called Package in Python.\n",
        "\n",
        "# Examples of modules:\n",
        "# Datetime\n",
        "# Regex\n",
        "# Random\n",
        "# calender"
      ]
    },
    {
      "cell_type": "code",
      "source": [
        "# What is Package on python?\n",
        "# The package is a simple directory having collections of modules. This directory contains Python Modules and\n",
        "# The package is simply a namespace.The package also contains sub-packages inside it.\n",
        "\n",
        "# Examples of Packages:\n",
        "# Numpy\n",
        "# Pandas"
      ],
      "metadata": {
        "id": "5yJK06DehuLv"
      },
      "execution_count": 2,
      "outputs": []
    },
    {
      "cell_type": "code",
      "source": [
        "# What is Library in Python?\n",
        "# The Library having a collection of related functionality of codes that allows you to perform many tasks without writing your code.\n",
        "# It is reusable chunk of code that we can use by importing it into our progra,we can just use it by importing that library and\n",
        "# calling the method of that library with a period(.). However , it is often assumed that while a package is a collection of modules,\n",
        "# a library is a collection of packages.\n",
        "\n",
        "# Examples of Library:\n",
        "# Matplotlib\n",
        "# Pytorch\n",
        "# Pygam\n",
        "# Seaborn"
      ],
      "metadata": {
        "id": "SHJtdm5Bijjq"
      },
      "execution_count": 3,
      "outputs": []
    },
    {
      "cell_type": "code",
      "source": [],
      "metadata": {
        "id": "0eFNQhXikjNo"
      },
      "execution_count": null,
      "outputs": []
    }
  ]
}